{
 "cells": [
  {
   "cell_type": "code",
   "execution_count": 2,
   "id": "e78911bb",
   "metadata": {},
   "outputs": [],
   "source": [
    "import pandas as pd\n",
    "from docx import Document"
   ]
  },
  {
   "cell_type": "code",
   "execution_count": 4,
   "id": "82fb16e5",
   "metadata": {},
   "outputs": [],
   "source": [
    "document = Document(\"PandasTableExtraction.docx\")"
   ]
  },
  {
   "cell_type": "markdown",
   "id": "46681548",
   "metadata": {},
   "source": [
    "### Reading Simple Table with no Heading\n",
    "\n",
    "Simple tables have a uniform number of columns and rows, without any merged cells. This table contains no heading"
   ]
  },
  {
   "cell_type": "code",
   "execution_count": 13,
   "id": "da2caebc",
   "metadata": {},
   "outputs": [
    {
     "data": {
      "text/html": [
       "<div>\n",
       "<style scoped>\n",
       "    .dataframe tbody tr th:only-of-type {\n",
       "        vertical-align: middle;\n",
       "    }\n",
       "\n",
       "    .dataframe tbody tr th {\n",
       "        vertical-align: top;\n",
       "    }\n",
       "\n",
       "    .dataframe thead th {\n",
       "        text-align: right;\n",
       "    }\n",
       "</style>\n",
       "<table border=\"1\" class=\"dataframe\">\n",
       "  <thead>\n",
       "    <tr style=\"text-align: right;\">\n",
       "      <th></th>\n",
       "      <th>0</th>\n",
       "      <th>1</th>\n",
       "    </tr>\n",
       "  </thead>\n",
       "  <tbody>\n",
       "    <tr>\n",
       "      <th>0</th>\n",
       "      <td>First Name</td>\n",
       "      <td>David</td>\n",
       "    </tr>\n",
       "    <tr>\n",
       "      <th>1</th>\n",
       "      <td>Last Name</td>\n",
       "      <td>Smith</td>\n",
       "    </tr>\n",
       "    <tr>\n",
       "      <th>2</th>\n",
       "      <td>Department</td>\n",
       "      <td>Sales</td>\n",
       "    </tr>\n",
       "    <tr>\n",
       "      <th>3</th>\n",
       "      <td>Blood Group</td>\n",
       "      <td>A+</td>\n",
       "    </tr>\n",
       "    <tr>\n",
       "      <th>4</th>\n",
       "      <td>Gender</td>\n",
       "      <td>Male</td>\n",
       "    </tr>\n",
       "  </tbody>\n",
       "</table>\n",
       "</div>"
      ],
      "text/plain": [
       "             0      1\n",
       "0   First Name  David\n",
       "1    Last Name  Smith\n",
       "2   Department  Sales\n",
       "3  Blood Group     A+\n",
       "4       Gender   Male"
      ]
     },
     "execution_count": 13,
     "metadata": {},
     "output_type": "execute_result"
    }
   ],
   "source": [
    "table = document.tables[1]\n",
    "\n",
    "data = [[cell.text for cell in row.cells] for row in table.rows]\n",
    "df = pd.DataFrame(data)\n",
    "df"
   ]
  },
  {
   "cell_type": "markdown",
   "id": "0bc5644c",
   "metadata": {},
   "source": [
    "### Reading Simple Table with Heading\n",
    "\n",
    "Simple tables have a uniform number of columns and rows, without any merged cells. This table contains heading"
   ]
  },
  {
   "cell_type": "code",
   "execution_count": 11,
   "id": "c5d02929",
   "metadata": {},
   "outputs": [
    {
     "data": {
      "text/html": [
       "<div>\n",
       "<style scoped>\n",
       "    .dataframe tbody tr th:only-of-type {\n",
       "        vertical-align: middle;\n",
       "    }\n",
       "\n",
       "    .dataframe tbody tr th {\n",
       "        vertical-align: top;\n",
       "    }\n",
       "\n",
       "    .dataframe thead th {\n",
       "        text-align: right;\n",
       "    }\n",
       "</style>\n",
       "<table border=\"1\" class=\"dataframe\">\n",
       "  <thead>\n",
       "    <tr style=\"text-align: right;\">\n",
       "      <th></th>\n",
       "      <th>Books</th>\n",
       "      <th>Author</th>\n",
       "      <th>Year</th>\n",
       "    </tr>\n",
       "  </thead>\n",
       "  <tbody>\n",
       "    <tr>\n",
       "      <th>0</th>\n",
       "      <td>The Scarlet Letter</td>\n",
       "      <td>Nathaniel Hawthorne</td>\n",
       "      <td>1850</td>\n",
       "    </tr>\n",
       "    <tr>\n",
       "      <th>1</th>\n",
       "      <td>Heart of Darkness</td>\n",
       "      <td>Joseph Conrad</td>\n",
       "      <td>1902</td>\n",
       "    </tr>\n",
       "    <tr>\n",
       "      <th>2</th>\n",
       "      <td>The Pearl</td>\n",
       "      <td>John Steinbeck</td>\n",
       "      <td>1947</td>\n",
       "    </tr>\n",
       "    <tr>\n",
       "      <th>3</th>\n",
       "      <td>Gulliver's Travel</td>\n",
       "      <td>Jonathan Swift</td>\n",
       "      <td>1726</td>\n",
       "    </tr>\n",
       "    <tr>\n",
       "      <th>4</th>\n",
       "      <td>On the Road</td>\n",
       "      <td>Jack Kerouac</td>\n",
       "      <td>1957</td>\n",
       "    </tr>\n",
       "  </tbody>\n",
       "</table>\n",
       "</div>"
      ],
      "text/plain": [
       "                Books               Author  Year\n",
       "0  The Scarlet Letter  Nathaniel Hawthorne  1850\n",
       "1   Heart of Darkness        Joseph Conrad  1902\n",
       "2           The Pearl       John Steinbeck  1947\n",
       "3   Gulliver's Travel       Jonathan Swift  1726\n",
       "4         On the Road         Jack Kerouac  1957"
      ]
     },
     "execution_count": 11,
     "metadata": {},
     "output_type": "execute_result"
    }
   ],
   "source": [
    "table = document.tables[0]\n",
    "\n",
    "data = [[cell.text for cell in row.cells] for row in table.rows]\n",
    "df = pd.DataFrame(data)\n",
    "df = df.rename(columns=df.iloc[0]).drop(df.index[0]).reset_index(drop=True)\n",
    "df"
   ]
  },
  {
   "cell_type": "markdown",
   "id": "fbf15021",
   "metadata": {},
   "source": [
    "### Reading Complex Tables\n",
    "\n",
    "The following is a complex table, using merged cells as headers "
   ]
  },
  {
   "cell_type": "code",
   "execution_count": 15,
   "id": "bd47289e",
   "metadata": {},
   "outputs": [
    {
     "data": {
      "text/html": [
       "<div>\n",
       "<style scoped>\n",
       "    .dataframe tbody tr th:only-of-type {\n",
       "        vertical-align: middle;\n",
       "    }\n",
       "\n",
       "    .dataframe tbody tr th {\n",
       "        vertical-align: top;\n",
       "    }\n",
       "\n",
       "    .dataframe thead tr th {\n",
       "        text-align: left;\n",
       "    }\n",
       "</style>\n",
       "<table border=\"1\" class=\"dataframe\">\n",
       "  <thead>\n",
       "    <tr>\n",
       "      <th></th>\n",
       "      <th></th>\n",
       "      <th colspan=\"2\" halign=\"left\">Jan 2020</th>\n",
       "      <th colspan=\"2\" halign=\"left\">Feb 2020</th>\n",
       "      <th colspan=\"2\" halign=\"left\">Mar 2020</th>\n",
       "    </tr>\n",
       "    <tr>\n",
       "      <th></th>\n",
       "      <th>Items</th>\n",
       "      <th>Qty</th>\n",
       "      <th>Price</th>\n",
       "      <th>Qty</th>\n",
       "      <th>Price</th>\n",
       "      <th>Qty</th>\n",
       "      <th>Price</th>\n",
       "    </tr>\n",
       "  </thead>\n",
       "  <tbody>\n",
       "    <tr>\n",
       "      <th>0</th>\n",
       "      <td>Pens</td>\n",
       "      <td>853</td>\n",
       "      <td>50</td>\n",
       "      <td>973</td>\n",
       "      <td>50</td>\n",
       "      <td>953</td>\n",
       "      <td>55</td>\n",
       "    </tr>\n",
       "    <tr>\n",
       "      <th>1</th>\n",
       "      <td>Books</td>\n",
       "      <td>238</td>\n",
       "      <td>30</td>\n",
       "      <td>208</td>\n",
       "      <td>35</td>\n",
       "      <td>268</td>\n",
       "      <td>40</td>\n",
       "    </tr>\n",
       "    <tr>\n",
       "      <th>2</th>\n",
       "      <td>Binders</td>\n",
       "      <td>214</td>\n",
       "      <td>70</td>\n",
       "      <td>184</td>\n",
       "      <td>70</td>\n",
       "      <td>202</td>\n",
       "      <td>75</td>\n",
       "    </tr>\n",
       "    <tr>\n",
       "      <th>3</th>\n",
       "      <td>Pencils</td>\n",
       "      <td>1810</td>\n",
       "      <td>10</td>\n",
       "      <td>1570</td>\n",
       "      <td>10</td>\n",
       "      <td>1765</td>\n",
       "      <td>10</td>\n",
       "    </tr>\n",
       "    <tr>\n",
       "      <th>4</th>\n",
       "      <td>Erasers</td>\n",
       "      <td>1502</td>\n",
       "      <td>5</td>\n",
       "      <td>1307</td>\n",
       "      <td>7</td>\n",
       "      <td>2018</td>\n",
       "      <td>7</td>\n",
       "    </tr>\n",
       "  </tbody>\n",
       "</table>\n",
       "</div>"
      ],
      "text/plain": [
       "           Jan 2020       Feb 2020       Mar 2020      \n",
       "     Items      Qty Price      Qty Price      Qty Price\n",
       "0     Pens      853    50      973    50      953    55\n",
       "1    Books      238    30      208    35      268    40\n",
       "2  Binders      214    70      184    70      202    75\n",
       "3  Pencils     1810    10     1570    10     1765    10\n",
       "4  Erasers     1502     5     1307     7     2018     7"
      ]
     },
     "execution_count": 15,
     "metadata": {},
     "output_type": "execute_result"
    }
   ],
   "source": [
    "outside_col, inside_col = df.iloc[0], df.iloc[1]\n",
    "hier_index = pd.MultiIndex.from_tuples(list(zip(outside_col, inside_col)))\n",
    "df = pd.DataFrame(data,columns=hier_index).drop(df.index[[0,1]] ).reset_index(drop=True)\n",
    "df"
   ]
  },
  {
   "cell_type": "markdown",
   "id": "65ab37b9",
   "metadata": {},
   "source": [
    "Reference: https://medium.com/@karthikeyan.eaganathan/read-tables-from-docx-file-to-pandas-dataframes-f7e409401370"
   ]
  }
 ],
 "metadata": {
  "kernelspec": {
   "display_name": "Python 3",
   "language": "python",
   "name": "python3"
  },
  "language_info": {
   "codemirror_mode": {
    "name": "ipython",
    "version": 3
   },
   "file_extension": ".py",
   "mimetype": "text/x-python",
   "name": "python",
   "nbconvert_exporter": "python",
   "pygments_lexer": "ipython3",
   "version": "3.8.5"
  }
 },
 "nbformat": 4,
 "nbformat_minor": 5
}
