{
 "cells": [
  {
   "cell_type": "markdown",
   "id": "8fa67766",
   "metadata": {},
   "source": [
    "### Read all Comments and all References from Docx [Updatede, Preferred]\n",
    "\n",
    "[Cross Platform Solution]"
   ]
  },
  {
   "cell_type": "code",
   "execution_count": 1,
   "id": "bf5d00f0",
   "metadata": {},
   "outputs": [],
   "source": [
    "from docx import Document\n",
    "from lxml import etree\n",
    "import zipfile\n",
    "import pandas as pd\n",
    "\n",
    "ooXMLns = {'w':'http://schemas.openxmlformats.org/wordprocessingml/2006/main'}"
   ]
  },
  {
   "cell_type": "code",
   "execution_count": 2,
   "id": "99428e2f",
   "metadata": {},
   "outputs": [],
   "source": [
    "BASE = ''\n",
    "fname = 'testdoc.docx'"
   ]
  },
  {
   "cell_type": "markdown",
   "id": "03097060",
   "metadata": {},
   "source": [
    "### 1.1 Get Comment and Reference Paragraph"
   ]
  },
  {
   "cell_type": "code",
   "execution_count": 3,
   "id": "e5ab384e",
   "metadata": {},
   "outputs": [],
   "source": [
    "#Function to extract all the comments of document(Same as accepted answer)\n",
    "#Returns a dictionary with comment id as key and comment string as value\n",
    "def get_document_comments(docxFileName):\n",
    "    comments_dict={}\n",
    "    docxZip = zipfile.ZipFile(docxFileName)\n",
    "    commentsXML = docxZip.read('word/comments.xml')\n",
    "    et = etree.XML(commentsXML)\n",
    "    comments = et.xpath('//w:comment',namespaces=ooXMLns)\n",
    "    for c in comments:\n",
    "        comment=c.xpath('string(.)',namespaces=ooXMLns)\n",
    "        comment_id=c.xpath('@w:id',namespaces=ooXMLns)[0]\n",
    "        comments_dict[comment_id]=comment\n",
    "    docxZip.close()\n",
    "    return comments_dict\n",
    "\n",
    "#Function to fetch all the comments in a paragraph\n",
    "def paragraph_comments(paragraph,comments_dict):\n",
    "    comments=[]\n",
    "    for run in paragraph.runs:\n",
    "        comment_reference=run._r.xpath(\"./w:commentReference\")\n",
    "        if comment_reference:\n",
    "            comment_id=comment_reference[0].xpath('@w:id',namespaces=ooXMLns)[0]\n",
    "            comment=comments_dict[comment_id]\n",
    "            comments.append(comment)\n",
    "    return comments\n",
    "\n",
    "#Function to fetch \"all comments\" with their referenced \"all paragraphs\"\n",
    "#This will return list like this [{'Paragraph text': [comment 1,comment 2]}]\n",
    "def comments_with_reference_paragraph(docxFileName):\n",
    "    document = Document(docxFileName)\n",
    "    comments_dict=get_document_comments(docxFileName)\n",
    "    comments_with_their_reference_paragraph=[]\n",
    "    cflag = False\n",
    "    ref_parts = []\n",
    "    for paragraph in document.paragraphs:\n",
    "        \n",
    "        if 'w:commentRangeStart' in paragraph._p.xml: # start getting all referred paragraphs\n",
    "            cflag = True\n",
    "        if cflag:\n",
    "            ref_parts.append(paragraph.text) # continue getting all referred paragraphs\n",
    "            \n",
    "        if 'w:commentRangeEnd' in paragraph._p.xml: # end getting all referred paragraphs\n",
    "            cflag = False \n",
    "            \n",
    "            if comments_dict: \n",
    "                comments=paragraph_comments(paragraph,comments_dict) # get all comments for this block of referred objects\n",
    "                if comments:\n",
    "                    comments_with_their_reference_paragraph.append({'ref objects':'|||'.join(ref_parts), 'comments':'|||'.join(comments)}) # dataframe friendly format\n",
    "            \n",
    "    return comments_with_their_reference_paragraph\n",
    "\n",
    "annot_list = comments_with_reference_paragraph(BASE+fname)"
   ]
  },
  {
   "cell_type": "code",
   "execution_count": 4,
   "id": "e5cf842d",
   "metadata": {},
   "outputs": [
    {
     "data": {
      "text/html": [
       "<div>\n",
       "<style scoped>\n",
       "    .dataframe tbody tr th:only-of-type {\n",
       "        vertical-align: middle;\n",
       "    }\n",
       "\n",
       "    .dataframe tbody tr th {\n",
       "        vertical-align: top;\n",
       "    }\n",
       "\n",
       "    .dataframe thead th {\n",
       "        text-align: right;\n",
       "    }\n",
       "</style>\n",
       "<table border=\"1\" class=\"dataframe\">\n",
       "  <thead>\n",
       "    <tr style=\"text-align: right;\">\n",
       "      <th></th>\n",
       "      <th>ref objects</th>\n",
       "      <th>comments</th>\n",
       "    </tr>\n",
       "  </thead>\n",
       "  <tbody>\n",
       "    <tr>\n",
       "      <th>0</th>\n",
       "      <td>Video provides a powerful way to help you prov...</td>\n",
       "      <td>dor comment one</td>\n",
       "    </tr>\n",
       "    <tr>\n",
       "      <th>1</th>\n",
       "      <td>Video provides a powerful way to help you prov...</td>\n",
       "      <td>dor comment two|||dor comment three</td>\n",
       "    </tr>\n",
       "  </tbody>\n",
       "</table>\n",
       "</div>"
      ],
      "text/plain": [
       "                                         ref objects  \\\n",
       "0  Video provides a powerful way to help you prov...   \n",
       "1  Video provides a powerful way to help you prov...   \n",
       "\n",
       "                              comments  \n",
       "0                      dor comment one  \n",
       "1  dor comment two|||dor comment three  "
      ]
     },
     "execution_count": 4,
     "metadata": {},
     "output_type": "execute_result"
    }
   ],
   "source": [
    "pd.DataFrame(annot_list)"
   ]
  },
  {
   "cell_type": "markdown",
   "id": "c8eb5295",
   "metadata": {},
   "source": [
    "Reference:\n",
    "\n",
    "https://stackoverflow.com/questions/47390928/extract-docx-comments\n"
   ]
  }
 ],
 "metadata": {
  "kernelspec": {
   "display_name": "Python 3 (ipykernel)",
   "language": "python",
   "name": "python3"
  },
  "language_info": {
   "codemirror_mode": {
    "name": "ipython",
    "version": 3
   },
   "file_extension": ".py",
   "mimetype": "text/x-python",
   "name": "python",
   "nbconvert_exporter": "python",
   "pygments_lexer": "ipython3",
   "version": "3.9.13"
  }
 },
 "nbformat": 4,
 "nbformat_minor": 5
}
