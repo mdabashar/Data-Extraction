{
 "cells": [
  {
   "cell_type": "code",
   "execution_count": 2,
   "id": "025afb29",
   "metadata": {},
   "outputs": [],
   "source": [
    "# ! pip install docx2txt"
   ]
  },
  {
   "cell_type": "markdown",
   "id": "e907b2ef",
   "metadata": {},
   "source": [
    "### Include Libraries"
   ]
  },
  {
   "cell_type": "code",
   "execution_count": 3,
   "id": "715a380c",
   "metadata": {},
   "outputs": [],
   "source": [
    "import os\n",
    "import docx\n",
    "import docx2txt"
   ]
  },
  {
   "cell_type": "markdown",
   "id": "ccb59e99",
   "metadata": {},
   "source": [
    "### Extract text and write all images to img_folder/"
   ]
  },
  {
   "cell_type": "code",
   "execution_count": 25,
   "id": "dfbdc7a4",
   "metadata": {},
   "outputs": [
    {
     "data": {
      "text/plain": [
       "\"Test Document\\n\\nThis document was created just to test the simple table extraction into pandas dataframes.\\n\\nTables\\n\\nSimple Table with heading\\n\\nSimple tables have a uniform number of columns and rows, without any merged cells. This table contains heading\\n\\nBooks\\n\\nAuthor\\n\\nYear\\n\\nThe Scarlet Letter\\n\\nNathaniel Hawthorne\\n\\n1850\\n\\nHeart of Darkness\\n\\nJoseph Conrad\\n\\n1902\\n\\nThe Pearl\\n\\nJohn Steinbeck\\n\\n1947\\n\\nGulliver's Travel\\n\\nJonathan Swift\\n\\n1726\\n\\nOn the Road\\n\\nJack Kerouac\\n\\n1957\\n\\n\\n\\nSimple Table with no heading\\n\\nSimple tables have a uniform number of columns and rows, without any merged cells. This table contains no heading\\n\\nFirst Name\\n\\nDavid\\n\\nLast Name\\n\\nSmith\\n\\nDepartment\\n\\nSales\\n\\nBlood Group\\n\\nA+\\n\\nGender\\n\\nMale\\n\\n\\n\\nComplex Tables\\n\\nThe following is a complex table, using merged cells as headers \\n\\n\\n\\nJan 2020\\n\\nFeb 2020\\n\\nMar 2020\\n\\nItems\\n\\nQty\\n\\nPrice\\n\\nQty\\n\\nPrice\\n\\nQty\\n\\nPrice\\n\\nPens\\n\\n853\\n\\n50\\n\\n973\\n\\n50\\n\\n953\\n\\n55\\n\\nBooks\\n\\n238\\n\\n30\\n\\n208\\n\\n35\\n\\n268\\n\\n40\\n\\nBinders\\n\\n214\\n\\n70\\n\\n184\\n\\n70\\n\\n202\\n\\n75\\n\\nPencils\\n\\n1810\\n\\n10\\n\\n1570\\n\\n10\\n\\n1765\\n\\n10\\n\\nErasers\\n\\n1502\\n\\n5\\n\\n1307\\n\\n7\\n\\n2018\\n\\n7\\n\\n \\n\\n\\n\\n\\n\\nImage 1\\n\\nFollowing is an image\\n\\n\\n\\nImage 2\\n\\nFollowing is another image\""
      ]
     },
     "execution_count": 25,
     "metadata": {},
     "output_type": "execute_result"
    }
   ],
   "source": [
    "text = docx2txt.process('PandasTableExtraction.docx', 'img_folder/');\n",
    "text"
   ]
  },
  {
   "cell_type": "markdown",
   "id": "16e98af8",
   "metadata": {},
   "source": [
    "### Open you .docx document"
   ]
  },
  {
   "cell_type": "code",
   "execution_count": 18,
   "id": "df55aa7f",
   "metadata": {},
   "outputs": [],
   "source": [
    "doc = docx.Document('PandasTableExtraction.docx')"
   ]
  },
  {
   "cell_type": "markdown",
   "id": "277443ac",
   "metadata": {},
   "source": [
    "### Store all 'rId:filenames' relationships in an dictionary named rels"
   ]
  },
  {
   "cell_type": "code",
   "execution_count": 11,
   "id": "cc4d7dfb",
   "metadata": {},
   "outputs": [
    {
     "data": {
      "text/plain": [
       "{'rId5': 'image2.jpg', 'rId4': 'image1.jpg'}"
      ]
     },
     "execution_count": 11,
     "metadata": {},
     "output_type": "execute_result"
    }
   ],
   "source": [
    "rels = {}\n",
    "for r in doc.part.rels.values():\n",
    "    if isinstance(r._target, docx.parts.image.ImagePart):\n",
    "        rels[r.rId] = os.path.basename(r._target.partname)\n",
    "rels"
   ]
  },
  {
   "cell_type": "markdown",
   "id": "2a96fadb",
   "metadata": {},
   "source": [
    "### Then process your text"
   ]
  },
  {
   "cell_type": "code",
   "execution_count": 36,
   "id": "0b6df2a0",
   "metadata": {},
   "outputs": [
    {
     "name": "stdout",
     "output_type": "stream",
     "text": [
      "Test Document\n",
      "This document was created just to test the simple table extraction into pandas dataframes.\n",
      "Tables\n",
      "Simple Table with heading\n",
      "Simple tables have a uniform number of columns and rows, without any merged cells. This table contains heading\n",
      "\n",
      "Simple Table with no heading\n",
      "Simple tables have a uniform number of columns and rows, without any merged cells. This table contains no heading\n",
      "\n",
      "Complex Tables\n",
      "The following is a complex table, using merged cells as headers \n",
      " \n",
      "\n",
      "\n",
      "Image 1\n",
      "Following is an image\n",
      "\n",
      "Your image will be in img_folder/image1.jpg\n",
      "-------------------------------------------\n",
      "Image 2\n",
      "Following is another image  \n",
      "  \n",
      "Your image will be in img_folder/image2.jpg\n",
      "-------------------------------------------\n",
      "\n"
     ]
    }
   ],
   "source": [
    "for paragraph in doc.paragraphs:\n",
    "    print(paragraph.text)\n",
    "    # If you find an image\n",
    "    if 'Graphic' in paragraph._p.xml:\n",
    "        # Get the rId of the image\n",
    "        for rId in rels:\n",
    "            if rId in paragraph._p.xml:\n",
    "                print('Your image will be in', os.path.join('img_folder/', rels[rId]))\n",
    "                print('-------------------------------------------')\n",
    "    else:\n",
    "        # It's not an image\n",
    "        pass"
   ]
  },
  {
   "cell_type": "markdown",
   "id": "7355c5dc",
   "metadata": {},
   "source": [
    "Reference: https://stackoverflow.com/questions/27691678/finding-image-present-docx-file-using-python/27705408#27705408"
   ]
  }
 ],
 "metadata": {
  "kernelspec": {
   "display_name": "Python 3",
   "language": "python",
   "name": "python3"
  },
  "language_info": {
   "codemirror_mode": {
    "name": "ipython",
    "version": 3
   },
   "file_extension": ".py",
   "mimetype": "text/x-python",
   "name": "python",
   "nbconvert_exporter": "python",
   "pygments_lexer": "ipython3",
   "version": "3.8.5"
  }
 },
 "nbformat": 4,
 "nbformat_minor": 5
}
