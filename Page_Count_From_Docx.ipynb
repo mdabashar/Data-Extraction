{
 "cells": [
  {
   "cell_type": "markdown",
   "id": "3e800c11",
   "metadata": {},
   "source": [
    "### Count Number of Pages in Docx"
   ]
  },
  {
   "cell_type": "code",
   "execution_count": 20,
   "id": "f396cdd0",
   "metadata": {},
   "outputs": [],
   "source": [
    "from win32com.client import Dispatch\n",
    "import os"
   ]
  },
  {
   "cell_type": "code",
   "execution_count": 21,
   "id": "f62197af",
   "metadata": {},
   "outputs": [
    {
     "name": "stdout",
     "output_type": "stream",
     "text": [
      "Number of pages 2\n"
     ]
    }
   ],
   "source": [
    "#open Word\n",
    "word = Dispatch('Word.Application')\n",
    "word.Visible = False\n",
    "filepath = \"C:\\\\Users\\\\User\\\\OneDrive - Queensland University of Technology\\\\JupyterPythonQUT\\\\DoR\\\\Stage2\\\\comment_test_1.docx\"\n",
    "word = word.Documents.Open(os.path.abspath(filepath))\n",
    "\n",
    "#get number of sheets\n",
    "word.Repaginate()\n",
    "num_of_sheets = word.ComputeStatistics(2)\n",
    "print('Number of pages', num_of_sheets)\n",
    "word.Close(True)"
   ]
  },
  {
   "cell_type": "markdown",
   "id": "8c27c3d6",
   "metadata": {},
   "source": [
    "Reference: https://stackoverflow.com/questions/12964580/number-of-pages-of-a-word-document-with-python"
   ]
  }
 ],
 "metadata": {
  "kernelspec": {
   "display_name": "Python 3",
   "language": "python",
   "name": "python3"
  },
  "language_info": {
   "codemirror_mode": {
    "name": "ipython",
    "version": 3
   },
   "file_extension": ".py",
   "mimetype": "text/x-python",
   "name": "python",
   "nbconvert_exporter": "python",
   "pygments_lexer": "ipython3",
   "version": "3.8.5"
  }
 },
 "nbformat": 4,
 "nbformat_minor": 5
}
