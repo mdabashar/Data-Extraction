{
 "cells": [
  {
   "cell_type": "code",
   "execution_count": 1,
   "metadata": {},
   "outputs": [],
   "source": [
    "from docx import Document\n",
    "import docx\n",
    "import os\n",
    "from docx.document import Document as doctwo\n",
    "from docx.oxml.table import CT_Tbl\n",
    "from docx.oxml.text.paragraph import CT_P\n",
    "from docx.table import _Cell, Table\n",
    "from docx.text.paragraph import Paragraph\n",
    "import pandas as pd"
   ]
  },
  {
   "cell_type": "code",
   "execution_count": 2,
   "metadata": {},
   "outputs": [],
   "source": [
    "document = Document('PandasTableExtraction.docx')"
   ]
  },
  {
   "cell_type": "code",
   "execution_count": 3,
   "metadata": {},
   "outputs": [
    {
     "data": {
      "text/plain": [
       "{'rId7': 'image2.jpg', 'rId6': 'image1.jpg'}"
      ]
     },
     "execution_count": 3,
     "metadata": {},
     "output_type": "execute_result"
    }
   ],
   "source": [
    "rels = {}\n",
    "for r in document.part.rels.values():\n",
    "    if isinstance(r._target, docx.parts.image.ImagePart):\n",
    "        rels[r.rId] = os.path.basename(r._target.partname)\n",
    "rels"
   ]
  },
  {
   "cell_type": "code",
   "execution_count": 4,
   "metadata": {},
   "outputs": [],
   "source": [
    "##This function extracts the tables and paragraphs from the document object\n",
    "def iter_block_items(parent):\n",
    "    \"\"\"\n",
    "    Yield each paragraph and table child within *parent*, in document order.\n",
    "    Each returned value is an instance of either Table or Paragraph. *parent*\n",
    "    would most commonly be a reference to a main Document object, but\n",
    "    also works for a _Cell object, which itself can contain paragraphs and tables.\n",
    "    \"\"\"\n",
    "    if isinstance(parent, doctwo):\n",
    "        parent_elm = parent.element.body\n",
    "    elif isinstance(parent, _Cell):\n",
    "        parent_elm = parent._tc\n",
    "    else:\n",
    "        raise ValueError(\"something's not right\")\n",
    "\n",
    "    for child in parent_elm.iterchildren():\n",
    "        if isinstance(child, CT_P):\n",
    "            yield Paragraph(child, parent)\n",
    "        elif isinstance(child, CT_Tbl):\n",
    "            yield Table(child, parent)"
   ]
  },
  {
   "cell_type": "code",
   "execution_count": 5,
   "metadata": {},
   "outputs": [
    {
     "name": "stdout",
     "output_type": "stream",
     "text": [
      "[Heading] Test Document\n",
      "- This document was created just to test the simple table extraction into pandas dataframes.\n",
      "[Heading] Tables\n",
      "[Heading] Simple Table with heading\n",
      "- Simple tables have a uniform number of columns and rows, without any merged cells. This table contains heading\n",
      "[Table]\n",
      "- \n",
      "[Heading] Simple Table with no heading\n",
      "- Simple tables have a uniform number of columns and rows, without any merged cells. This table contains no heading\n",
      "[Table]\n",
      "- \n",
      "[Heading] Complex Tables\n",
      "- The following is a complex table, using merged cells as headers \n",
      "[Table]\n",
      "-  \n",
      "- \n",
      "- \n",
      "[Heading] Image 1\n",
      "- Following is an image\n",
      "[Image] img\\image1.jpg\n",
      "[Heading] Image 2\n",
      "- Following is another image  \n",
      "[Image] img\\image2.jpg\n",
      "- \n"
     ]
    }
   ],
   "source": [
    "for block in iter_block_items(document):\n",
    "    if 'text' in str(block):\n",
    "        if block.style.name.startswith('Heading'):\n",
    "            print('[Heading]', block.text)\n",
    "        elif 'Graphic' in block._p.xml:\n",
    "        # Get the rId of the image\n",
    "            for rId in rels:\n",
    "                if rId in block._p.xml:\n",
    "                    print('[Image]', os.path.join('img', rels[rId]))\n",
    "        else:\n",
    "            print('-', block.text)\n",
    "    else:\n",
    "        print('[Table]')"
   ]
  }
 ],
 "metadata": {
  "kernelspec": {
   "display_name": "Python 3",
   "language": "python",
   "name": "python3"
  },
  "language_info": {
   "codemirror_mode": {
    "name": "ipython",
    "version": 3
   },
   "file_extension": ".py",
   "mimetype": "text/x-python",
   "name": "python",
   "nbconvert_exporter": "python",
   "pygments_lexer": "ipython3",
   "version": "3.7.6"
  }
 },
 "nbformat": 4,
 "nbformat_minor": 4
}
