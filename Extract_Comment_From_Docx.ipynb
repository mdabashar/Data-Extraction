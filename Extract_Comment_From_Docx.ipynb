{
 "cells": [
  {
   "cell_type": "markdown",
   "metadata": {},
   "source": [
    "# Reading Comments from Docx"
   ]
  },
  {
   "cell_type": "markdown",
   "metadata": {},
   "source": [
    "## 1. [Cross Platform Solution]\n",
    "\n",
    "Reference:\n",
    "\n",
    "1. https://stackoverflow.com/questions/47390928/extract-docx-comments"
   ]
  },
  {
   "cell_type": "code",
   "execution_count": 1,
   "metadata": {},
   "outputs": [],
   "source": [
    "from docx import Document\n",
    "from lxml import etree\n",
    "import zipfile\n",
    "\n",
    "ooXMLns = {'w':'http://schemas.openxmlformats.org/wordprocessingml/2006/main'}"
   ]
  },
  {
   "cell_type": "markdown",
   "metadata": {},
   "source": [
    "#### 1.1 Get Comment and Reference Paragraph"
   ]
  },
  {
   "cell_type": "code",
   "execution_count": 2,
   "metadata": {},
   "outputs": [],
   "source": [
    "#Function to extract all the comments of document(Same as accepted answer)\n",
    "#Returns a dictionary with comment id as key and comment string as value\n",
    "def get_document_comments(docxFileName):\n",
    "    comments_dict={}\n",
    "    docxZip = zipfile.ZipFile(docxFileName)\n",
    "    commentsXML = docxZip.read('word/comments.xml')\n",
    "    et = etree.XML(commentsXML)\n",
    "    comments = et.xpath('//w:comment',namespaces=ooXMLns)\n",
    "    for c in comments:\n",
    "        comment=c.xpath('string(.)',namespaces=ooXMLns)\n",
    "        comment_id=c.xpath('@w:id',namespaces=ooXMLns)[0]\n",
    "        comments_dict[comment_id]=comment\n",
    "    docxZip.close()\n",
    "    return comments_dict\n",
    "\n",
    "#Function to fetch all the comments in a paragraph\n",
    "def paragraph_comments(paragraph,comments_dict):\n",
    "    comments=[]\n",
    "    for run in paragraph.runs:\n",
    "        comment_reference=run._r.xpath(\"./w:commentReference\")\n",
    "        if comment_reference:\n",
    "            comment_id=comment_reference[0].xpath('@w:id',namespaces=ooXMLns)[0]\n",
    "            comment=comments_dict[comment_id]\n",
    "            comments.append(comment)\n",
    "    return comments\n",
    "\n",
    "#Function to fetch all comments with their referenced paragraph\n",
    "#This will return list like this [{'Paragraph text': [comment 1,comment 2]}]\n",
    "def comments_with_reference_paragraph(docxFileName):\n",
    "    document = Document(docxFileName)\n",
    "    comments_dict=get_document_comments(docxFileName)\n",
    "    comments_with_their_reference_paragraph=[]\n",
    "    for paragraph in document.paragraphs:  \n",
    "        if comments_dict: \n",
    "            comments=paragraph_comments(paragraph,comments_dict)  \n",
    "            if comments:\n",
    "                comments_with_their_reference_paragraph.append({paragraph.text: comments})\n",
    "    return comments_with_their_reference_paragraph"
   ]
  },
  {
   "cell_type": "code",
   "execution_count": 3,
   "metadata": {},
   "outputs": [
    {
     "name": "stdout",
     "output_type": "stream",
     "text": [
      "{\"Bangladesh (/ˌbæŋɡləˈdɛʃ, ˌbɑːŋ-/;[12] Bengali: বাংলাদেশ, pronounced [ˈbaŋlaˌdeʃ] (listen)), officially the People's Republic of Bangladesh, is a country in South Asia. It is the eighth-most populous country in the world, with a population exceeding 165 million people in an area of 148,460 square kilometres (57,320 sq mi).[7] Bangladesh is among the most densely populated countries in the world, and shares land borders with India to the west, north, and east, and Myanmar to the southeast; to the south it has a coastline along the Bay of Bengal. It is narrowly separated from Bhutan and Nepal by the Siliguri Corridor; and from China by the Indian state of Sikkim in the north. Dhaka, the capital and largest city, is the nation's political, financial and cultural centre. Chittagong, the second-largest city, is the busiest port on the Bay of Bengal. The official language is Bengali, one of the easternmost branches of the Indo-European language family.\": ['Full Name']}\n"
     ]
    }
   ],
   "source": [
    "file_name = 'comment_test_1.docx' #filepath for the input document\n",
    "print(comments_with_reference_paragraph(file_name)[0])"
   ]
  },
  {
   "cell_type": "code",
   "execution_count": 4,
   "metadata": {},
   "outputs": [
    {
     "data": {
      "text/plain": [
       "{'0': 'Full Name', '1': 'First Muslim Rulling', '2': 'Bengali Majority'}"
      ]
     },
     "execution_count": 4,
     "metadata": {},
     "output_type": "execute_result"
    }
   ],
   "source": [
    "get_document_comments(file_name)"
   ]
  },
  {
   "cell_type": "markdown",
   "metadata": {},
   "source": [
    "#### 1.2 Get Coomment Author, Comment Date and Comment"
   ]
  },
  {
   "cell_type": "code",
   "execution_count": 5,
   "metadata": {},
   "outputs": [
    {
     "name": "stdout",
     "output_type": "stream",
     "text": [
      "['Md Abul Bashar']\n",
      "['2022-12-04T07:32:00Z']\n",
      "Full Name\n",
      "['Md Abul Bashar']\n",
      "['2022-12-04T07:34:00Z']\n",
      "First Muslim Rulling\n",
      "['Md Abul Bashar']\n",
      "['2022-12-04T07:36:00Z']\n",
      "Bengali Majority\n"
     ]
    }
   ],
   "source": [
    "from lxml import etree\n",
    "import zipfile\n",
    "\n",
    "ooXMLns = {'w':'http://schemas.openxmlformats.org/wordprocessingml/2006/main'}\n",
    "\n",
    "def get_comments(docxFileName):\n",
    "    docxZip = zipfile.ZipFile(docxFileName)\n",
    "    commentsXML = docxZip.read('word/comments.xml')\n",
    "    et = etree.XML(commentsXML)\n",
    "    comments = et.xpath('//w:comment',namespaces=ooXMLns)\n",
    "    for c in comments:\n",
    "        # attributes:\n",
    "        print(c.xpath('@w:author',namespaces=ooXMLns))\n",
    "        print(c.xpath('@w:date',namespaces=ooXMLns))\n",
    "        # string value of the comment:\n",
    "        print(c.xpath('string(.)',namespaces=ooXMLns))\n",
    "        \n",
    "        \n",
    "get_comments('comment_test_1.docx')"
   ]
  },
  {
   "cell_type": "markdown",
   "metadata": {},
   "source": [
    "## 2. [MS Windows Solution]\n",
    "\n",
    "Reference: \n",
    "\n",
    "1. https://stackoverflow.com/questions/47390928/extract-docx-comments\n",
    "2. https://stackoverflow.com/questions/21898656/why-do-i-get-an-error-when-iterating-over-paragraphs-in-ms-word-with-win32com"
   ]
  },
  {
   "cell_type": "markdown",
   "metadata": {},
   "source": [
    "#### 2.1 Get Comments, Author and Reference text"
   ]
  },
  {
   "cell_type": "code",
   "execution_count": 6,
   "metadata": {},
   "outputs": [
    {
     "name": "stdout",
     "output_type": "stream",
     "text": [
      "Comment by: Md Abul Bashar\n",
      "Comment text: Full Name\n",
      "Regarding: People's Republic of Bangladesh\n",
      "\n",
      "Comment by: Md Abul Bashar\n",
      "Comment text: First Muslim Rulling\n",
      "Regarding: The Muslim conquest of Bengal began in 1204 when Bakhtiar Khalji overran northern Bengal and invaded Tibet.\n",
      "\n",
      "Comment by: Md Abul Bashar\n",
      "Comment text: Bengali Majority\n",
      "Regarding: Bengalis make up 99% of the total population of Bangladesh.\n",
      "\n"
     ]
    }
   ],
   "source": [
    "import win32com.client as win32\n",
    "from win32com.client import constants\n",
    "\n",
    "word = win32.gencache.EnsureDispatch('Word.Application')\n",
    "word.Visible = False \n",
    "filepath = \"C:\\\\Users\\\\basharm\\\\OneDrive - Queensland University of Technology\\\\JupyterPythonQUT\\\\DoR\\\\Stage2\\\\comment_test_1.docx\"\n",
    "\n",
    "def get_comments(filepath):\n",
    "    doc = word.Documents.Open(filepath) \n",
    "    doc.Activate()\n",
    "    activeDoc = word.ActiveDocument\n",
    "    for c in activeDoc.Comments: \n",
    "        if c.Ancestor is None: #checking if this is a top-level comment\n",
    "            print(\"Comment by: \" + c.Author)\n",
    "            print(\"Comment text: \" + c.Range.Text) #text of the comment\n",
    "            print(\"Regarding: \" + c.Scope.Text) #text of the original document where the comment is anchored \n",
    "            if len(c.Replies)> 0: #if the comment has replies\n",
    "                print(\"Number of replies: \" + str(len(c.Replies)))\n",
    "                for r in range(1, len(c.Replies)+1):\n",
    "                    print(\"Reply by: \" + c.Replies(r).Author)\n",
    "                    print(\"Reply text: \" + c.Replies(r).Range.Text) #text of the reply\n",
    "            print()\n",
    "    doc.Close()\n",
    "    \n",
    "get_comments(filepath)"
   ]
  },
  {
   "cell_type": "markdown",
   "metadata": {},
   "source": [
    "#### 2.2 Get paragraphs"
   ]
  },
  {
   "cell_type": "code",
   "execution_count": 7,
   "metadata": {},
   "outputs": [
    {
     "name": "stdout",
     "output_type": "stream",
     "text": [
      "Introduction\r\n",
      "\n",
      "Bangladesh (/ˌbæŋɡləˈdɛʃ, ˌbɑːŋ-/;[12] Bengali: বাংলাদেশ, pronounced [ˈbaŋlaˌdeʃ] (listen)), officially the People's Republic of Bangladesh, is a country in South Asia. It is the eighth-most populous country in the world, with a population exceeding 165 million people in an area of 148,460 square kilometres (57,320 sq mi).[7] Bangladesh is among the most densely populated countries in the world, and shares land borders with India to the west, north, and east, and Myanmar to the southeast; to the south it has a coastline along the Bay of Bengal. It is narrowly separated from Bhutan and Nepal by the Siliguri Corridor; and from China by the Indian state of Sikkim in the north. Dhaka, the capital and largest city, is the nation's political, financial and cultural centre. Chittagong, the second-largest city, is the busiest port on the Bay of Bengal. The official language is Bengali, one of the easternmost branches of the Indo-European language family.\r\n",
      "\n",
      "\r\n",
      "\n",
      "History\r\n",
      "\n",
      "Bangladesh forms the sovereign part of the historic and ethnolinguistic region of Bengal, which was divided during the Partition of India in 1947.[13] The country has a Bengali Muslim majority. Ancient Bengal was an important cultural centre in the Indian subcontinent as the home of the states of Vanga, Pundra, Gangaridai, Gauda, Samatata, and Harikela. The Mauryan, Gupta, Pala, Sena, Chandra and Deva dynasties were the last pre-Islamic rulers of Bengal. The Muslim conquest of Bengal began in 1204 when Bakhtiar Khalji overran northern Bengal and invaded Tibet. Becoming part of the Delhi Sultanate, three city-states emerged in the 14th century with much of eastern Bengal being ruled from Sonargaon. Sufi missionary leaders like Sultan Balkhi, Shah Jalal and Shah Makhdum Rupos helped in spreading Muslim rule. The region was unified into an independent, unitary Bengal Sultanate. Under Mughal rule, eastern Bengal continued to prosper as the melting pot of Muslims in the eastern subcontinent and attracted traders from around the world. The Bengali elite were among the richest people in the world due to strong trade networks like the muslin trade which supplied textiles, such as 40% of Dutch imports from Asia.[14] Mughal Bengal became increasingly assertive and independent under the Nawabs of Bengal in the 18th century. In 1757, the betrayal of Mir Jafar resulted in the defeat of Nawab Siraj-ud-Daulah to the British East India Company and eventual British dominance across South Asia. The Bengal Presidency grew into the largest administrative unit in British India. The creation of Eastern Bengal and Assam in 1905 set a precedent for the emergence of Bangladesh. In 1940, the first Prime Minister of Bengal supported the Lahore Resolution with the hope of creating a state in the eastern subcontinent. Prior to the partition of Bengal, the Prime Minister of Bengal proposed a Bengali sovereign state. A referendum and the announcement of the Radcliffe Line established the present-day territorial boundary of Bangladesh.\r\n",
      "\n",
      "\r\n",
      "\n",
      "In 1947, East Bengal became the most populous province in the Dominion of Pakistan. It was renamed as East Pakistan with Dhaka becoming the country's legislative capital. The Bengali Language Movement in 1952; the East Bengali legislative election, 1954; the 1958 Pakistani coup d'état; the Six point movement of 1966; and the 1970 Pakistani general election resulted in the rise of Bengali nationalism and pro-democracy movements in East Pakistan. The refusal of the Pakistani military junta to transfer power to the Awami League led by Sheikh Mujibur Rahman led to the Bangladesh Liberation War in 1971, in which the Mukti Bahini aided by India waged a successful armed revolution. The conflict saw the 1971 Bangladesh genocide and the massacre of pro-independence Bengali civilians, including intellectuals. The new state of Bangladesh became the first constitutionally secular state in South Asia in 1972.[15] Islam was declared the state religion in 1988.[16][17][18] In 2010, the Bangladesh Supreme Court reaffirmed secular principles in the constitution.[19]\r\n",
      "\n",
      "\r\n",
      "\n",
      "Economy\r\n",
      "\n",
      "A middle power in the Indo-Pacific,[20] Bangladesh is the second largest economy in South Asia. It maintains the third-largest military in the region and is a major contributor to UN peacekeeping operations. The large Muslim population of Bangladesh makes it the third-largest Muslim-majority country. Bangladesh is a unitary parliamentary constitutional republic based on the Westminster system. Bengalis make up 99% of the total population of Bangladesh.[21] The country consists of 8 divisions, 64 districts and 495 subdistricts.[22] It hosts one of the largest refugee populations in the world due to the Rohingya genocide.[23] Bangladesh faces many challenges, particularly effects of climate change.[24] Bangladesh has been a leader within the Climate Vulnerable Forum. It hosts the headquarters of BIMSTEC. It is a founding member of SAARC, as well as a member of the Organisation of Islamic Cooperation and the Commonwealth of Nations.\r\n",
      "\n"
     ]
    }
   ],
   "source": [
    "def get_paragraphs(filepath):\n",
    "    doc = word.Documents.Open(filepath) \n",
    "    doc.Activate()\n",
    "    activeDoc = word.ActiveDocument\n",
    "    for paragraph in activeDoc.Paragraphs:\n",
    "        print (paragraph.Range.Text)\n",
    "        print()\n",
    "    doc.Close()\n",
    "    \n",
    "get_paragraphs(filepath)"
   ]
  }
 ],
 "metadata": {
  "kernelspec": {
   "display_name": "Python 3",
   "language": "python",
   "name": "python3"
  },
  "language_info": {
   "codemirror_mode": {
    "name": "ipython",
    "version": 3
   },
   "file_extension": ".py",
   "mimetype": "text/x-python",
   "name": "python",
   "nbconvert_exporter": "python",
   "pygments_lexer": "ipython3",
   "version": "3.7.6"
  }
 },
 "nbformat": 4,
 "nbformat_minor": 5
}
